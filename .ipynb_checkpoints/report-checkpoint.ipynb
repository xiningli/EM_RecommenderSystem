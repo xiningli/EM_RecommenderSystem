{
 "cells": [
  {
   "cell_type": "code",
   "execution_count": 1,
   "metadata": {},
   "outputs": [],
   "source": [
    "from RecommendationSystemEM import RecommendationSystem"
   ]
  },
  {
   "cell_type": "code",
   "execution_count": 2,
   "metadata": {},
   "outputs": [],
   "source": [
    "recommender = RecommendationSystem(dataFolderPath=\"xsmall_data/\")\n",
    "runResult = recommender.run(sim_thresh = 0.1, testCase = 1)"
   ]
  },
  {
   "cell_type": "code",
   "execution_count": 3,
   "metadata": {},
   "outputs": [
    {
     "data": {
      "text/plain": [
       "5746.695166201826"
      ]
     },
     "execution_count": 3,
     "metadata": {},
     "output_type": "execute_result"
    }
   ],
   "source": [
    "recommender.calculateRMSE(\"xsmall_data/ratings.csv\")"
   ]
  },
  {
   "cell_type": "code",
   "execution_count": 8,
   "metadata": {},
   "outputs": [
    {
     "name": "stdout",
     "output_type": "stream",
     "text": [
      "5746.695382839948\n",
      "5746.693893902203\n",
      "5746.697524357383\n",
      "5746.695678594126\n",
      "5746.695480680803\n",
      "5746.694455910528\n"
     ]
    }
   ],
   "source": [
    "for i in range(6):\n",
    "    recommender = RecommendationSystem(dataFolderPath=\"xsmall_data/\")\n",
    "    runResult = recommender.run(sim_thresh = 0.1, testCase = 1)\n",
    "    result = recommender.calculateRMSE(\"xsmall_data/ratings.csv\")\n",
    "    print(result)"
   ]
  },
  {
   "cell_type": "code",
   "execution_count": null,
   "metadata": {},
   "outputs": [],
   "source": []
  }
 ],
 "metadata": {
  "kernelspec": {
   "display_name": "Python 3",
   "language": "python",
   "name": "python3"
  },
  "language_info": {
   "codemirror_mode": {
    "name": "ipython",
    "version": 3
   },
   "file_extension": ".py",
   "mimetype": "text/x-python",
   "name": "python",
   "nbconvert_exporter": "python",
   "pygments_lexer": "ipython3",
   "version": "3.7.1"
  }
 },
 "nbformat": 4,
 "nbformat_minor": 2
}
